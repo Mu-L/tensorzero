{
 "cells": [
  {
   "cell_type": "code",
   "execution_count": 1,
   "metadata": {},
   "outputs": [],
   "source": [
    "import asyncio\n",
    "import base64\n",
    "import os\n",
    "from os import PathLike\n",
    "from pathlib import Path\n",
    "\n",
    "import numpy as np\n",
    "import pandas as pd\n",
    "from tensorzero import AsyncTensorZeroGateway\n",
    "from tqdm.asyncio import tqdm_asyncio"
   ]
  },
  {
   "cell_type": "code",
   "execution_count": 2,
   "metadata": {},
   "outputs": [],
   "source": [
    "DATA_PATH = Path(\"data\")\n",
    "\n",
    "LABELS_PATH = DATA_PATH / \"labels.csv\"\n",
    "\n",
    "CONCURRENCY = 10\n",
    "\n",
    "VARIANT_NAME = \"baseline\""
   ]
  },
  {
   "cell_type": "code",
   "execution_count": 3,
   "metadata": {},
   "outputs": [
    {
     "name": "stdout",
     "output_type": "stream",
     "text": [
      "Found 200 train documents and 200 test documents\n"
     ]
    }
   ],
   "source": [
    "def load_data(path: PathLike):\n",
    "    df = pd.read_csv(LABELS_PATH)\n",
    "\n",
    "    # Sanity Check: ensure every image exists\n",
    "    for _, row in df.iterrows():\n",
    "        img_path = path / Path(row[\"document\"])\n",
    "        assert img_path.exists(), (\n",
    "            f\"Image {img_path} does not exist. Ensure you've downloaded the dataset correctly.\"\n",
    "        )\n",
    "\n",
    "    train_df = df[df[\"is_train\"] == 1].reset_index(drop=True)\n",
    "    test_df = df[df[\"is_train\"] == 0].reset_index(drop=True)\n",
    "\n",
    "    return train_df, test_df\n",
    "\n",
    "\n",
    "train_df, test_df = load_data(DATA_PATH)\n",
    "\n",
    "print(f\"Found {len(train_df)} train documents and {len(test_df)} test documents\")"
   ]
  },
  {
   "cell_type": "code",
   "execution_count": 4,
   "metadata": {},
   "outputs": [
    {
     "data": {
      "text/html": [
       "<div>\n",
       "<style scoped>\n",
       "    .dataframe tbody tr th:only-of-type {\n",
       "        vertical-align: middle;\n",
       "    }\n",
       "\n",
       "    .dataframe tbody tr th {\n",
       "        vertical-align: top;\n",
       "    }\n",
       "\n",
       "    .dataframe thead th {\n",
       "        text-align: right;\n",
       "    }\n",
       "</style>\n",
       "<table border=\"1\" class=\"dataframe\">\n",
       "  <thead>\n",
       "    <tr style=\"text-align: right;\">\n",
       "      <th></th>\n",
       "      <th>document</th>\n",
       "      <th>label</th>\n",
       "      <th>is_train</th>\n",
       "    </tr>\n",
       "  </thead>\n",
       "  <tbody>\n",
       "    <tr>\n",
       "      <th>186</th>\n",
       "      <td>dataset/train/0903.3513v1.Fuzzy_Chemical_Abstr...</td>\n",
       "      <td>cs.FL</td>\n",
       "      <td>1</td>\n",
       "    </tr>\n",
       "    <tr>\n",
       "      <th>75</th>\n",
       "      <td>dataset/train/0706.2748v2.A_Survey_of_Unix_Ini...</td>\n",
       "      <td>cs.OS</td>\n",
       "      <td>1</td>\n",
       "    </tr>\n",
       "    <tr>\n",
       "      <th>65</th>\n",
       "      <td>dataset/train/cs_0001004v1.Multiplicative_Algo...</td>\n",
       "      <td>cs.LG</td>\n",
       "      <td>1</td>\n",
       "    </tr>\n",
       "    <tr>\n",
       "      <th>188</th>\n",
       "      <td>dataset/train/0904.3366v1.State_complexity_of_...</td>\n",
       "      <td>cs.FL</td>\n",
       "      <td>1</td>\n",
       "    </tr>\n",
       "    <tr>\n",
       "      <th>66</th>\n",
       "      <td>dataset/train/cs_0002006v1.Multiplicative_Nonh...</td>\n",
       "      <td>cs.LG</td>\n",
       "      <td>1</td>\n",
       "    </tr>\n",
       "  </tbody>\n",
       "</table>\n",
       "</div>"
      ],
      "text/plain": [
       "                                              document  label  is_train\n",
       "186  dataset/train/0903.3513v1.Fuzzy_Chemical_Abstr...  cs.FL         1\n",
       "75   dataset/train/0706.2748v2.A_Survey_of_Unix_Ini...  cs.OS         1\n",
       "65   dataset/train/cs_0001004v1.Multiplicative_Algo...  cs.LG         1\n",
       "188  dataset/train/0904.3366v1.State_complexity_of_...  cs.FL         1\n",
       "66   dataset/train/cs_0002006v1.Multiplicative_Nonh...  cs.LG         1"
      ]
     },
     "execution_count": 4,
     "metadata": {},
     "output_type": "execute_result"
    }
   ],
   "source": [
    "train_df.sample(5)"
   ]
  },
  {
   "cell_type": "code",
   "execution_count": 5,
   "metadata": {},
   "outputs": [
    {
     "data": {
      "text/html": [
       "<div>\n",
       "<style scoped>\n",
       "    .dataframe tbody tr th:only-of-type {\n",
       "        vertical-align: middle;\n",
       "    }\n",
       "\n",
       "    .dataframe tbody tr th {\n",
       "        vertical-align: top;\n",
       "    }\n",
       "\n",
       "    .dataframe thead th {\n",
       "        text-align: right;\n",
       "    }\n",
       "</style>\n",
       "<table border=\"1\" class=\"dataframe\">\n",
       "  <thead>\n",
       "    <tr style=\"text-align: right;\">\n",
       "      <th></th>\n",
       "      <th>document</th>\n",
       "      <th>label</th>\n",
       "      <th>is_train</th>\n",
       "    </tr>\n",
       "  </thead>\n",
       "  <tbody>\n",
       "    <tr>\n",
       "      <th>37</th>\n",
       "      <td>dataset/test/cs_0109084v1.The_Internet_and_Com...</td>\n",
       "      <td>cs.DB</td>\n",
       "      <td>0</td>\n",
       "    </tr>\n",
       "    <tr>\n",
       "      <th>98</th>\n",
       "      <td>dataset/test/cs_0204051v1.Parrondo_Strategies_...</td>\n",
       "      <td>cs.CE</td>\n",
       "      <td>0</td>\n",
       "    </tr>\n",
       "    <tr>\n",
       "      <th>65</th>\n",
       "      <td>dataset/test/cs_0011044v1.Scaling_Up_Inductive...</td>\n",
       "      <td>cs.LG</td>\n",
       "      <td>0</td>\n",
       "    </tr>\n",
       "    <tr>\n",
       "      <th>104</th>\n",
       "      <td>dataset/test/cs_0109009v1.The_Effect_of_Native...</td>\n",
       "      <td>cs.CY</td>\n",
       "      <td>0</td>\n",
       "    </tr>\n",
       "    <tr>\n",
       "      <th>105</th>\n",
       "      <td>dataset/test/1011.1519v1.Fuzzy_Controller_for_...</td>\n",
       "      <td>cs.SY</td>\n",
       "      <td>0</td>\n",
       "    </tr>\n",
       "  </tbody>\n",
       "</table>\n",
       "</div>"
      ],
      "text/plain": [
       "                                              document  label  is_train\n",
       "37   dataset/test/cs_0109084v1.The_Internet_and_Com...  cs.DB         0\n",
       "98   dataset/test/cs_0204051v1.Parrondo_Strategies_...  cs.CE         0\n",
       "65   dataset/test/cs_0011044v1.Scaling_Up_Inductive...  cs.LG         0\n",
       "104  dataset/test/cs_0109009v1.The_Effect_of_Native...  cs.CY         0\n",
       "105  dataset/test/1011.1519v1.Fuzzy_Controller_for_...  cs.SY         0"
      ]
     },
     "execution_count": 5,
     "metadata": {},
     "output_type": "execute_result"
    }
   ],
   "source": [
    "test_df.sample(5)"
   ]
  },
  {
   "cell_type": "code",
   "execution_count": 6,
   "metadata": {},
   "outputs": [],
   "source": [
    "os.makedirs(\"tensorzero/object_storage\", exist_ok=True)"
   ]
  },
  {
   "cell_type": "code",
   "execution_count": 7,
   "metadata": {},
   "outputs": [],
   "source": [
    "t0 = await AsyncTensorZeroGateway.build_http(\n",
    "    gateway_url=\"http://localhost:3000\",\n",
    ")"
   ]
  },
  {
   "cell_type": "code",
   "execution_count": 8,
   "metadata": {},
   "outputs": [],
   "source": [
    "def load_document(path: PathLike):\n",
    "    \"\"\"Load an image and encode as a base64 string\"\"\"\n",
    "    path = DATA_PATH / path\n",
    "    assert path.exists()\n",
    "    assert path.suffix.lower() == \".png\"\n",
    "\n",
    "    with open(path, \"rb\") as image_file:\n",
    "        return base64.b64encode(image_file.read()).decode(\"utf-8\")"
   ]
  },
  {
   "cell_type": "code",
   "execution_count": 9,
   "metadata": {},
   "outputs": [],
   "source": [
    "async def process_document(row):\n",
    "    response = await t0.inference(\n",
    "        function_name=\"classify_document\",\n",
    "        input={\n",
    "            \"system\": \"Categorize this document.\",\n",
    "            \"messages\": [\n",
    "                {\n",
    "                    \"role\": \"user\",\n",
    "                    \"content\": [\n",
    "                        {\n",
    "                            \"type\": \"image\",\n",
    "                            \"mime_type\": \"image/png\",\n",
    "                            \"data\": load_document(row.document),\n",
    "                        },\n",
    "                    ],\n",
    "                }\n",
    "            ],\n",
    "        },\n",
    "        dryrun=not row.is_train,\n",
    "        cache_options={\n",
    "            \"enabled\": \"on\",\n",
    "        },\n",
    "    )\n",
    "\n",
    "    correct_classification = response.output.parsed == row.label\n",
    "\n",
    "    if row.is_train:\n",
    "        await t0.feedback(\n",
    "            metric_name=\"correct_classification\",\n",
    "            value=correct_classification,\n",
    "            inference_id=response.inference_id,\n",
    "        )\n",
    "\n",
    "        await t0.feedback(\n",
    "            metric_name=\"demonstration\",\n",
    "            value={\n",
    "                \"category\": row.label,\n",
    "            },\n",
    "            inference_id=response.inference_id,\n",
    "        )\n",
    "\n",
    "    return correct_classification"
   ]
  },
  {
   "cell_type": "code",
   "execution_count": 10,
   "metadata": {},
   "outputs": [],
   "source": [
    "semaphore = asyncio.Semaphore(CONCURRENCY)\n",
    "\n",
    "\n",
    "async def process_document_with_semaphore(row):\n",
    "    async with semaphore:\n",
    "        return await process_document(row)"
   ]
  },
  {
   "cell_type": "code",
   "execution_count": 11,
   "metadata": {},
   "outputs": [
    {
     "name": "stderr",
     "output_type": "stream",
     "text": [
      "100%|██████████| 200/200 [01:37<00:00,  2.06it/s]"
     ]
    },
    {
     "name": "stdout",
     "output_type": "stream",
     "text": [
      "Train Set Accuracy: 0.0%\n"
     ]
    },
    {
     "name": "stderr",
     "output_type": "stream",
     "text": [
      "\n"
     ]
    }
   ],
   "source": [
    "scores = await tqdm_asyncio.gather(\n",
    "    *[process_document_with_semaphore(row) for _, row in train_df.iterrows()]\n",
    ")\n",
    "\n",
    "\n",
    "print(f\"Train Set Accuracy: {np.mean(scores):.1%}\")"
   ]
  },
  {
   "cell_type": "code",
   "execution_count": 12,
   "metadata": {},
   "outputs": [
    {
     "name": "stderr",
     "output_type": "stream",
     "text": [
      "100%|██████████| 200/200 [01:46<00:00,  1.88it/s]"
     ]
    },
    {
     "name": "stdout",
     "output_type": "stream",
     "text": [
      "Test Set Accuracy: 0.0%\n"
     ]
    },
    {
     "name": "stderr",
     "output_type": "stream",
     "text": [
      "\n"
     ]
    }
   ],
   "source": [
    "scores = await tqdm_asyncio.gather(\n",
    "    *[process_document_with_semaphore(row) for _, row in test_df.iterrows()]\n",
    ")\n",
    "\n",
    "print(f\"Test Set Accuracy: {np.mean(scores):.1%}\")"
   ]
  },
  {
   "cell_type": "code",
   "execution_count": null,
   "metadata": {},
   "outputs": [],
   "source": []
  }
 ],
 "metadata": {
  "kernelspec": {
   "display_name": ".venv",
   "language": "python",
   "name": "python3"
  },
  "language_info": {
   "codemirror_mode": {
    "name": "ipython",
    "version": 3
   },
   "file_extension": ".py",
   "mimetype": "text/x-python",
   "name": "python",
   "nbconvert_exporter": "python",
   "pygments_lexer": "ipython3",
   "version": "3.10.16"
  }
 },
 "nbformat": 4,
 "nbformat_minor": 2
}
