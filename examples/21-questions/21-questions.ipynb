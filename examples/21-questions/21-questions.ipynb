{
 "cells": [
  {
   "cell_type": "code",
   "execution_count": null,
   "id": "c0e78a32-9c0d-40e6-84fd-a7f497f98092",
   "metadata": {},
   "outputs": [],
   "source": [
    "import asyncio\n",
    "from typing import Optional\n",
    "\n",
    "from tensorzero import AsyncTensorZeroGateway"
   ]
  },
  {
   "cell_type": "code",
   "execution_count": null,
   "id": "6dad2676",
   "metadata": {},
   "outputs": [],
   "source": [
    "tensorzero_client = AsyncTensorZeroGateway(\"http://localhost:3000\", timeout=60.0)"
   ]
  },
  {
   "cell_type": "code",
   "execution_count": null,
   "id": "ceda5ab5",
   "metadata": {},
   "outputs": [],
   "source": [
    "semaphore = asyncio.Semaphore(20)"
   ]
  },
  {
   "cell_type": "code",
   "execution_count": null,
   "id": "d599b0d8",
   "metadata": {},
   "outputs": [],
   "source": [
    "async def play_21_questions(\n",
    "    client: AsyncTensorZeroGateway,\n",
    "    semaphore: asyncio.Semaphore,\n",
    ") -> bool:\n",
    "    async with semaphore:\n",
    "        generate_secret_response = await client.inference(\n",
    "            function_name=\"generate_secret\", input={}\n",
    "        )\n",
    "    episode_id = generate_secret_response.episode_id\n",
    "    secret = generate_secret_response.output.parsed[\"secret\"]\n",
    "    message_history = []\n",
    "    for i in range(21):\n",
    "        async with semaphore:\n",
    "            ask_question_response = await client.inference(\n",
    "                function_name=\"ask_question\",\n",
    "                episode_id=episode_id,\n",
    "                input={\n",
    "                    \"system\": {\"remaining_questions\": 21 - i},\n",
    "                    \"messages\": message_history,\n",
    "                },\n",
    "            )\n",
    "        question = ask_question_response.output.parsed[\"question\"]\n",
    "        message_history.append({\"role\": \"user\", \"content\": question})\n",
    "        async with semaphore:\n",
    "            answer_question_response = await client.inference(\n",
    "                function_name=\"answer_question\",\n",
    "                episode_id=episode_id,\n",
    "                input={\"system\": {\"secret\": secret}, \"messages\": message_history},\n",
    "            )\n",
    "        full_answer = answer_question_response.content[0].text\n",
    "        short_answer = full_answer.split()[-1].lower()\n",
    "        if \"solved\" in short_answer:\n",
    "            client.feedback(episode_id=episode_id, metric_name=\"solved\", value=True)\n",
    "            return True\n",
    "        message_history.append({\"role\": \"assistant\", \"content\": short_answer})\n",
    "    await client.feedback(episode_id=episode_id, metric_name=\"solved\", value=False)\n",
    "    return False\n",
    "\n",
    "\n",
    "async def safe_play_21_questions(\n",
    "    client: AsyncTensorZeroGateway, semaphore: asyncio.Semaphore\n",
    ") -> Optional[bool]:\n",
    "    try:\n",
    "        return await play_21_questions(client, semaphore)\n",
    "    except Exception as e:\n",
    "        print(f\"Error during 21 questions game: {e}\")\n",
    "        return None"
   ]
  },
  {
   "cell_type": "code",
   "execution_count": null,
   "id": "9987adcf",
   "metadata": {},
   "outputs": [],
   "source": [
    "num_games = 50\n",
    "result = [\n",
    "    x\n",
    "    for x in await asyncio.gather(\n",
    "        *[\n",
    "            safe_play_21_questions(tensorzero_client, semaphore)\n",
    "            for _ in range(num_games)\n",
    "        ]\n",
    "    )\n",
    "    if x is not None\n",
    "]\n",
    "print(f\"Solved {sum(result)} / {num_games} games\")"
   ]
  }
 ],
 "metadata": {
  "kernelspec": {
   "display_name": "Python 3 (ipykernel)",
   "language": "python",
   "name": "python3"
  },
  "language_info": {
   "codemirror_mode": {
    "name": "ipython",
    "version": 3
   },
   "file_extension": ".py",
   "mimetype": "text/x-python",
   "name": "python",
   "nbconvert_exporter": "python",
   "pygments_lexer": "ipython3"
  }
 },
 "nbformat": 4,
 "nbformat_minor": 5
}
